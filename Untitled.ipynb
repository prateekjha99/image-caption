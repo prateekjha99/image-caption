{
 "cells": [
  {
   "cell_type": "code",
   "execution_count": null,
   "metadata": {},
   "outputs": [],
   "source": [
    "import Caption_it"
   ]
  },
  {
   "cell_type": "code",
   "execution_count": 9,
   "metadata": {},
   "outputs": [
    {
     "data": {
      "text/plain": [
       "'two men in soccer game'"
      ]
     },
     "execution_count": 9,
     "metadata": {},
     "output_type": "execute_result"
    }
   ],
   "source": [
    "Caption_it.caption_this_image(\"47871819_db55ac4699.jpg\")"
   ]
  },
  {
   "cell_type": "code",
   "execution_count": null,
   "metadata": {},
   "outputs": [
    {
     "name": "stdout",
     "output_type": "stream",
     "text": [
      " * Serving Flask app \"__main__\" (lazy loading)\n",
      " * Environment: production\n",
      "\u001b[31m   WARNING: This is a development server. Do not use it in a production deployment.\u001b[0m\n",
      "\u001b[2m   Use a production WSGI server instead.\u001b[0m\n",
      " * Debug mode: off\n"
     ]
    },
    {
     "name": "stderr",
     "output_type": "stream",
     "text": [
      " * Running on http://127.0.0.1:5000/ (Press CTRL+C to quit)\n",
      "127.0.0.1 - - [27/Jun/2021 00:19:47] \"\u001b[37mGET / HTTP/1.1\u001b[0m\" 200 -\n",
      "127.0.0.1 - - [27/Jun/2021 00:20:10] \"\u001b[37mPOST / HTTP/1.1\u001b[0m\" 200 -\n",
      "127.0.0.1 - - [27/Jun/2021 00:20:10] \"\u001b[37mGET /static/mask.jpeg HTTP/1.1\u001b[0m\" 200 -\n",
      "127.0.0.1 - - [27/Jun/2021 00:20:24] \"\u001b[37mPOST / HTTP/1.1\u001b[0m\" 200 -\n",
      "127.0.0.1 - - [27/Jun/2021 00:20:24] \"\u001b[37mGET /static/adhaar.jpeg HTTP/1.1\u001b[0m\" 200 -\n",
      "127.0.0.1 - - [27/Jun/2021 00:20:37] \"\u001b[37mPOST / HTTP/1.1\u001b[0m\" 200 -\n",
      "127.0.0.1 - - [27/Jun/2021 00:20:37] \"\u001b[37mGET /static/me.jpeg HTTP/1.1\u001b[0m\" 200 -\n",
      "127.0.0.1 - - [27/Jun/2021 00:20:56] \"\u001b[37mPOST / HTTP/1.1\u001b[0m\" 200 -\n",
      "127.0.0.1 - - [27/Jun/2021 00:20:56] \"\u001b[37mGET /static/me.png HTTP/1.1\u001b[0m\" 200 -\n",
      "127.0.0.1 - - [27/Jun/2021 00:21:09] \"\u001b[37mPOST / HTTP/1.1\u001b[0m\" 200 -\n",
      "127.0.0.1 - - [27/Jun/2021 00:21:09] \"\u001b[37mGET /static/WhatsApp%20Image%202021-06-25%20at%207.58.45%20PM.jpeg HTTP/1.1\u001b[0m\" 200 -\n",
      "127.0.0.1 - - [27/Jun/2021 00:21:28] \"\u001b[37mPOST / HTTP/1.1\u001b[0m\" 200 -\n",
      "127.0.0.1 - - [27/Jun/2021 00:21:28] \"\u001b[37mGET /static/20200308_084513.jpg HTTP/1.1\u001b[0m\" 200 -\n",
      "127.0.0.1 - - [27/Jun/2021 00:21:44] \"\u001b[37mPOST / HTTP/1.1\u001b[0m\" 200 -\n",
      "127.0.0.1 - - [27/Jun/2021 00:21:44] \"\u001b[37mGET /static/20200309_070608.jpg HTTP/1.1\u001b[0m\" 200 -\n",
      "127.0.0.1 - - [27/Jun/2021 00:21:55] \"\u001b[37mPOST / HTTP/1.1\u001b[0m\" 200 -\n",
      "127.0.0.1 - - [27/Jun/2021 00:21:55] \"\u001b[37mGET /static/20200308_132621_001.jpg HTTP/1.1\u001b[0m\" 200 -\n",
      "127.0.0.1 - - [27/Jun/2021 00:22:06] \"\u001b[37mPOST / HTTP/1.1\u001b[0m\" 200 -\n",
      "127.0.0.1 - - [27/Jun/2021 00:22:06] \"\u001b[37mGET /static/20200308_123406.jpg HTTP/1.1\u001b[0m\" 200 -\n",
      "127.0.0.1 - - [27/Jun/2021 00:22:28] \"\u001b[37mPOST / HTTP/1.1\u001b[0m\" 200 -\n",
      "127.0.0.1 - - [27/Jun/2021 00:22:28] \"\u001b[37mGET /static/20200308_192543.jpg HTTP/1.1\u001b[0m\" 200 -\n"
     ]
    }
   ],
   "source": [
    "from flask import Flask, render_template, redirect, request\n",
    "\n",
    "import Caption_it\n",
    "\n",
    "# __name__ == __main__\n",
    "app = Flask(__name__)\n",
    "\n",
    "\n",
    "@app.route('/')\n",
    "def hello():\n",
    "\treturn render_template(\"index.html\")\n",
    "\n",
    "\n",
    "@app.route('/', methods= ['POST'])\n",
    "def marks():\n",
    "\tif request.method == 'POST':\n",
    "\n",
    "\t\tf = request.files['userfile']\n",
    "\t\tpath = \"./static/{}\".format(f.filename)# ./static/images.jpg\n",
    "\t\tf.save(path)\n",
    "\n",
    "\t\tcaption = Caption_it.caption_this_image(path)\n",
    "\t\t\n",
    "\t\tresult_dic = {\n",
    "\t\t'image' : path,\n",
    "\t\t'caption' : caption\n",
    "\t\t}\n",
    "\n",
    "\treturn render_template(\"index.html\", your_result =result_dic)\n",
    "\n",
    "if __name__ == '__main__':\n",
    "\t# app.debug = True\n",
    "\t# due to versions of keras we need to pass another paramter threaded = Flase to this run function\n",
    "\tapp.run(debug = False, threaded = False)\n"
   ]
  },
  {
   "cell_type": "code",
   "execution_count": null,
   "metadata": {},
   "outputs": [],
   "source": []
  }
 ],
 "metadata": {
  "kernelspec": {
   "display_name": "Python 3",
   "language": "python",
   "name": "python3"
  },
  "language_info": {
   "codemirror_mode": {
    "name": "ipython",
    "version": 3
   },
   "file_extension": ".py",
   "mimetype": "text/x-python",
   "name": "python",
   "nbconvert_exporter": "python",
   "pygments_lexer": "ipython3",
   "version": "3.8.8"
  }
 },
 "nbformat": 4,
 "nbformat_minor": 4
}
